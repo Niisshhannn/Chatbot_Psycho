{
 "metadata": {
  "language_info": {
   "codemirror_mode": {
    "name": "ipython",
    "version": 3
   },
   "file_extension": ".py",
   "mimetype": "text/x-python",
   "name": "python",
   "nbconvert_exporter": "python",
   "pygments_lexer": "ipython3",
   "version": "3.6.10-final"
  },
  "orig_nbformat": 2,
  "kernelspec": {
   "name": "python3",
   "display_name": "Python 3.6.10 64-bit ('base': conda)",
   "metadata": {
    "interpreter": {
     "hash": "8f80fcc465ca1aa31c543a2008e9be65b8dd60a1d1710380b2c787fb4bb78c20"
    }
   }
  }
 },
 "nbformat": 4,
 "nbformat_minor": 2,
 "cells": [
  {
   "cell_type": "code",
   "execution_count": 1,
   "metadata": {},
   "outputs": [],
   "source": [
    "import pandas as pd"
   ]
  },
  {
   "cell_type": "code",
   "execution_count": 4,
   "metadata": {},
   "outputs": [],
   "source": [
    "df = pd.read_csv('data_final.csv',sep=';',header=0)"
   ]
  },
  {
   "cell_type": "code",
   "execution_count": 5,
   "metadata": {},
   "outputs": [
    {
     "output_type": "execute_result",
     "data": {
      "text/plain": [
       "     Type                                           Question  \\\n",
       "0    drug  how does rivatigmine and otc sleep medicine in...   \n",
       "1    drug                   how does valium affect the brain   \n",
       "2    drug                                   what is morphine   \n",
       "3    drug            what are the milligrams for oxycodone e   \n",
       "4    drug     81% aspirin contain resin and shellac in it. ?   \n",
       "..    ...                                                ...   \n",
       "784   psy            How to change your own self-perception?   \n",
       "785   psy  Realization problem, depersonalization, very s...   \n",
       "786   psy   Therapies that do not work, should we persevere?   \n",
       "787   psy                 How to appease my inner emptiness?   \n",
       "788   psy  I'm lost in my feelings, the divorce that I ca...   \n",
       "\n",
       "                                                Answer  \n",
       "0    tell your doctor and pharmacist what prescript...  \n",
       "1    Diazepam is a benzodiazepine that exerts anxio...  \n",
       "2    Morphine is a pain medication of the opiate fa...  \n",
       "3                  … 10 mg … 20 mg … 40 mg … 80 mg ...  \n",
       "4                Inactive Ingredients  Ingredient Name  \n",
       "..                                                 ...  \n",
       "784  Too bad you did not specify your current age. ...  \n",
       "785  A psychologist who only practices CBT does not...  \n",
       "786  Why have these therapies been a total fiasco? ...  \n",
       "787  The inner emptiness you feel is the symptom th...  \n",
       "788  Sometimes you get lost in your feelings and co...  \n",
       "\n",
       "[789 rows x 3 columns]"
      ],
      "text/html": "<div>\n<style scoped>\n    .dataframe tbody tr th:only-of-type {\n        vertical-align: middle;\n    }\n\n    .dataframe tbody tr th {\n        vertical-align: top;\n    }\n\n    .dataframe thead th {\n        text-align: right;\n    }\n</style>\n<table border=\"1\" class=\"dataframe\">\n  <thead>\n    <tr style=\"text-align: right;\">\n      <th></th>\n      <th>Type</th>\n      <th>Question</th>\n      <th>Answer</th>\n    </tr>\n  </thead>\n  <tbody>\n    <tr>\n      <th>0</th>\n      <td>drug</td>\n      <td>how does rivatigmine and otc sleep medicine in...</td>\n      <td>tell your doctor and pharmacist what prescript...</td>\n    </tr>\n    <tr>\n      <th>1</th>\n      <td>drug</td>\n      <td>how does valium affect the brain</td>\n      <td>Diazepam is a benzodiazepine that exerts anxio...</td>\n    </tr>\n    <tr>\n      <th>2</th>\n      <td>drug</td>\n      <td>what is morphine</td>\n      <td>Morphine is a pain medication of the opiate fa...</td>\n    </tr>\n    <tr>\n      <th>3</th>\n      <td>drug</td>\n      <td>what are the milligrams for oxycodone e</td>\n      <td>… 10 mg … 20 mg … 40 mg … 80 mg ...</td>\n    </tr>\n    <tr>\n      <th>4</th>\n      <td>drug</td>\n      <td>81% aspirin contain resin and shellac in it. ?</td>\n      <td>Inactive Ingredients  Ingredient Name</td>\n    </tr>\n    <tr>\n      <th>...</th>\n      <td>...</td>\n      <td>...</td>\n      <td>...</td>\n    </tr>\n    <tr>\n      <th>784</th>\n      <td>psy</td>\n      <td>How to change your own self-perception?</td>\n      <td>Too bad you did not specify your current age. ...</td>\n    </tr>\n    <tr>\n      <th>785</th>\n      <td>psy</td>\n      <td>Realization problem, depersonalization, very s...</td>\n      <td>A psychologist who only practices CBT does not...</td>\n    </tr>\n    <tr>\n      <th>786</th>\n      <td>psy</td>\n      <td>Therapies that do not work, should we persevere?</td>\n      <td>Why have these therapies been a total fiasco? ...</td>\n    </tr>\n    <tr>\n      <th>787</th>\n      <td>psy</td>\n      <td>How to appease my inner emptiness?</td>\n      <td>The inner emptiness you feel is the symptom th...</td>\n    </tr>\n    <tr>\n      <th>788</th>\n      <td>psy</td>\n      <td>I'm lost in my feelings, the divorce that I ca...</td>\n      <td>Sometimes you get lost in your feelings and co...</td>\n    </tr>\n  </tbody>\n</table>\n<p>789 rows × 3 columns</p>\n</div>"
     },
     "metadata": {},
     "execution_count": 5
    }
   ],
   "source": [
    "df"
   ]
  },
  {
   "cell_type": "code",
   "execution_count": 10,
   "metadata": {},
   "outputs": [],
   "source": [
    "df_psy = df[df['Type']=='psy']"
   ]
  },
  {
   "cell_type": "code",
   "execution_count": 11,
   "metadata": {},
   "outputs": [
    {
     "output_type": "execute_result",
     "data": {
      "text/plain": [
       "    Type                                           Question  \\\n",
       "690  psy  What are the differences between psycho-social...   \n",
       "691  psy  What are the differences between social psycho...   \n",
       "692  psy  What are the differences between LOC and causa...   \n",
       "693  psy  What could I do when my girlfriend left me aft...   \n",
       "694  psy  What could I do when my girlfriend left me aft...   \n",
       "..   ...                                                ...   \n",
       "784  psy            How to change your own self-perception?   \n",
       "785  psy  Realization problem, depersonalization, very s...   \n",
       "786  psy   Therapies that do not work, should we persevere?   \n",
       "787  psy                 How to appease my inner emptiness?   \n",
       "788  psy  I'm lost in my feelings, the divorce that I ca...   \n",
       "\n",
       "                                                Answer  \n",
       "690  While social psychology studies the individual...  \n",
       "691  General psychology and social psychology are b...  \n",
       "692  First of all the LOC (Locus of Control) corres...  \n",
       "693  Ten years of living together can only make a d...  \n",
       "694  your wife has made it clear from what you say ...  \n",
       "..                                                 ...  \n",
       "784  Too bad you did not specify your current age. ...  \n",
       "785  A psychologist who only practices CBT does not...  \n",
       "786  Why have these therapies been a total fiasco? ...  \n",
       "787  The inner emptiness you feel is the symptom th...  \n",
       "788  Sometimes you get lost in your feelings and co...  \n",
       "\n",
       "[99 rows x 3 columns]"
      ],
      "text/html": "<div>\n<style scoped>\n    .dataframe tbody tr th:only-of-type {\n        vertical-align: middle;\n    }\n\n    .dataframe tbody tr th {\n        vertical-align: top;\n    }\n\n    .dataframe thead th {\n        text-align: right;\n    }\n</style>\n<table border=\"1\" class=\"dataframe\">\n  <thead>\n    <tr style=\"text-align: right;\">\n      <th></th>\n      <th>Type</th>\n      <th>Question</th>\n      <th>Answer</th>\n    </tr>\n  </thead>\n  <tbody>\n    <tr>\n      <th>690</th>\n      <td>psy</td>\n      <td>What are the differences between psycho-social...</td>\n      <td>While social psychology studies the individual...</td>\n    </tr>\n    <tr>\n      <th>691</th>\n      <td>psy</td>\n      <td>What are the differences between social psycho...</td>\n      <td>General psychology and social psychology are b...</td>\n    </tr>\n    <tr>\n      <th>692</th>\n      <td>psy</td>\n      <td>What are the differences between LOC and causa...</td>\n      <td>First of all the LOC (Locus of Control) corres...</td>\n    </tr>\n    <tr>\n      <th>693</th>\n      <td>psy</td>\n      <td>What could I do when my girlfriend left me aft...</td>\n      <td>Ten years of living together can only make a d...</td>\n    </tr>\n    <tr>\n      <th>694</th>\n      <td>psy</td>\n      <td>What could I do when my girlfriend left me aft...</td>\n      <td>your wife has made it clear from what you say ...</td>\n    </tr>\n    <tr>\n      <th>...</th>\n      <td>...</td>\n      <td>...</td>\n      <td>...</td>\n    </tr>\n    <tr>\n      <th>784</th>\n      <td>psy</td>\n      <td>How to change your own self-perception?</td>\n      <td>Too bad you did not specify your current age. ...</td>\n    </tr>\n    <tr>\n      <th>785</th>\n      <td>psy</td>\n      <td>Realization problem, depersonalization, very s...</td>\n      <td>A psychologist who only practices CBT does not...</td>\n    </tr>\n    <tr>\n      <th>786</th>\n      <td>psy</td>\n      <td>Therapies that do not work, should we persevere?</td>\n      <td>Why have these therapies been a total fiasco? ...</td>\n    </tr>\n    <tr>\n      <th>787</th>\n      <td>psy</td>\n      <td>How to appease my inner emptiness?</td>\n      <td>The inner emptiness you feel is the symptom th...</td>\n    </tr>\n    <tr>\n      <th>788</th>\n      <td>psy</td>\n      <td>I'm lost in my feelings, the divorce that I ca...</td>\n      <td>Sometimes you get lost in your feelings and co...</td>\n    </tr>\n  </tbody>\n</table>\n<p>99 rows × 3 columns</p>\n</div>"
     },
     "metadata": {},
     "execution_count": 11
    }
   ],
   "source": [
    "df_psy"
   ]
  },
  {
   "cell_type": "code",
   "execution_count": 12,
   "metadata": {},
   "outputs": [
    {
     "output_type": "stream",
     "name": "stdout",
     "text": [
      "99\n"
     ]
    }
   ],
   "source": [
    "print(len(df_psy))"
   ]
  },
  {
   "cell_type": "code",
   "execution_count": 13,
   "metadata": {},
   "outputs": [],
   "source": [
    "df_drug = df[df['Type']=='drug']"
   ]
  },
  {
   "cell_type": "code",
   "execution_count": 14,
   "metadata": {},
   "outputs": [
    {
     "output_type": "execute_result",
     "data": {
      "text/plain": [
       "     Type                                           Question  \\\n",
       "0    drug  how does rivatigmine and otc sleep medicine in...   \n",
       "1    drug                   how does valium affect the brain   \n",
       "2    drug                                   what is morphine   \n",
       "3    drug            what are the milligrams for oxycodone e   \n",
       "4    drug     81% aspirin contain resin and shellac in it. ?   \n",
       "..    ...                                                ...   \n",
       "680  drug       how soon does losartan affect blood pressure   \n",
       "681  drug      how do steroids effect the respiratory system   \n",
       "682  drug           why am i so cold taking bystolic b p med   \n",
       "683  drug                     pneumococcal vaccine how often   \n",
       "684  drug  is it alright to use fluticasone when using ox...   \n",
       "\n",
       "                                                Answer  \n",
       "0    tell your doctor and pharmacist what prescript...  \n",
       "1    Diazepam is a benzodiazepine that exerts anxio...  \n",
       "2    Morphine is a pain medication of the opiate fa...  \n",
       "3                  … 10 mg … 20 mg … 40 mg … 80 mg ...  \n",
       "4                Inactive Ingredients  Ingredient Name  \n",
       "..                                                 ...  \n",
       "680  The effect of losartan is substantially presen...  \n",
       "681  Several efforts have been made to show the ben...  \n",
       "682  Feeling cold is found among people who take By...  \n",
       "683  CDC recommends routine administration of pneum...  \n",
       "684  Pharmacological therapy can influence morbidit...  \n",
       "\n",
       "[685 rows x 3 columns]"
      ],
      "text/html": "<div>\n<style scoped>\n    .dataframe tbody tr th:only-of-type {\n        vertical-align: middle;\n    }\n\n    .dataframe tbody tr th {\n        vertical-align: top;\n    }\n\n    .dataframe thead th {\n        text-align: right;\n    }\n</style>\n<table border=\"1\" class=\"dataframe\">\n  <thead>\n    <tr style=\"text-align: right;\">\n      <th></th>\n      <th>Type</th>\n      <th>Question</th>\n      <th>Answer</th>\n    </tr>\n  </thead>\n  <tbody>\n    <tr>\n      <th>0</th>\n      <td>drug</td>\n      <td>how does rivatigmine and otc sleep medicine in...</td>\n      <td>tell your doctor and pharmacist what prescript...</td>\n    </tr>\n    <tr>\n      <th>1</th>\n      <td>drug</td>\n      <td>how does valium affect the brain</td>\n      <td>Diazepam is a benzodiazepine that exerts anxio...</td>\n    </tr>\n    <tr>\n      <th>2</th>\n      <td>drug</td>\n      <td>what is morphine</td>\n      <td>Morphine is a pain medication of the opiate fa...</td>\n    </tr>\n    <tr>\n      <th>3</th>\n      <td>drug</td>\n      <td>what are the milligrams for oxycodone e</td>\n      <td>… 10 mg … 20 mg … 40 mg … 80 mg ...</td>\n    </tr>\n    <tr>\n      <th>4</th>\n      <td>drug</td>\n      <td>81% aspirin contain resin and shellac in it. ?</td>\n      <td>Inactive Ingredients  Ingredient Name</td>\n    </tr>\n    <tr>\n      <th>...</th>\n      <td>...</td>\n      <td>...</td>\n      <td>...</td>\n    </tr>\n    <tr>\n      <th>680</th>\n      <td>drug</td>\n      <td>how soon does losartan affect blood pressure</td>\n      <td>The effect of losartan is substantially presen...</td>\n    </tr>\n    <tr>\n      <th>681</th>\n      <td>drug</td>\n      <td>how do steroids effect the respiratory system</td>\n      <td>Several efforts have been made to show the ben...</td>\n    </tr>\n    <tr>\n      <th>682</th>\n      <td>drug</td>\n      <td>why am i so cold taking bystolic b p med</td>\n      <td>Feeling cold is found among people who take By...</td>\n    </tr>\n    <tr>\n      <th>683</th>\n      <td>drug</td>\n      <td>pneumococcal vaccine how often</td>\n      <td>CDC recommends routine administration of pneum...</td>\n    </tr>\n    <tr>\n      <th>684</th>\n      <td>drug</td>\n      <td>is it alright to use fluticasone when using ox...</td>\n      <td>Pharmacological therapy can influence morbidit...</td>\n    </tr>\n  </tbody>\n</table>\n<p>685 rows × 3 columns</p>\n</div>"
     },
     "metadata": {},
     "execution_count": 14
    }
   ],
   "source": [
    "df_drug"
   ]
  },
  {
   "cell_type": "code",
   "execution_count": null,
   "metadata": {},
   "outputs": [],
   "source": []
  }
 ]
}