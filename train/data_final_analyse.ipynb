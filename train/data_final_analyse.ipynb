{
 "metadata": {
  "language_info": {
   "codemirror_mode": {
    "name": "ipython",
    "version": 3
   },
   "file_extension": ".py",
   "mimetype": "text/x-python",
   "name": "python",
   "nbconvert_exporter": "python",
   "pygments_lexer": "ipython3",
   "version": "3.7.3-final"
  },
  "orig_nbformat": 2,
  "kernelspec": {
   "name": "python3",
   "display_name": "Python 3.7.3 64-bit ('base': conda)",
   "metadata": {
    "interpreter": {
     "hash": "088ceb16057b9f1a23b848897599aad24a4f875aaaa041233bd87c59d79c2ea6"
    }
   }
  }
 },
 "nbformat": 4,
 "nbformat_minor": 2,
 "cells": [
  {
   "cell_type": "code",
   "execution_count": 1,
   "metadata": {},
   "outputs": [],
   "source": [
    "import pandas as pd"
   ]
  },
  {
   "cell_type": "code",
   "execution_count": 5,
   "metadata": {},
   "outputs": [],
   "source": [
    "DataFinal_path = '../data/data_final.csv'\n",
    "DataFinal_list = pd.read_csv(DataFinal_path,sep=';',names=['Type','Question','Answer'])\n",
    "DataFinal_frame = pd.DataFrame(DataFinal_list,columns=['Type','Question','Reponse'])"
   ]
  },
  {
   "cell_type": "code",
   "execution_count": 6,
   "metadata": {},
   "outputs": [
    {
     "output_type": "execute_result",
     "data": {
      "text/plain": [
       "     Type                                           Question  Reponse\n",
       "2    drug                   how does valium affect the brain      NaN\n",
       "710   psy  What are the associations that help paranoid f...      NaN\n",
       "679  drug  is it safe for a 72 year old to stop taking pr...      NaN\n",
       "104  drug                         is herceptin chemo.a drug?      NaN\n",
       "342  drug  when teeth have been treated how lon after do ...      NaN\n",
       "444  drug          what upis this medication for simvastatin      NaN\n",
       "196  drug  how much ethanol alcohol is in 2 puffs of \"pro...      NaN\n",
       "527  drug  when is it ok to discontinue use of premarin c...      NaN\n",
       "650  drug                            when to take loratadine      NaN\n",
       "476  drug  how long itching lasts after stopping doxycycline      NaN"
      ],
      "text/html": "<div>\n<style scoped>\n    .dataframe tbody tr th:only-of-type {\n        vertical-align: middle;\n    }\n\n    .dataframe tbody tr th {\n        vertical-align: top;\n    }\n\n    .dataframe thead th {\n        text-align: right;\n    }\n</style>\n<table border=\"1\" class=\"dataframe\">\n  <thead>\n    <tr style=\"text-align: right;\">\n      <th></th>\n      <th>Type</th>\n      <th>Question</th>\n      <th>Reponse</th>\n    </tr>\n  </thead>\n  <tbody>\n    <tr>\n      <th>2</th>\n      <td>drug</td>\n      <td>how does valium affect the brain</td>\n      <td>NaN</td>\n    </tr>\n    <tr>\n      <th>710</th>\n      <td>psy</td>\n      <td>What are the associations that help paranoid f...</td>\n      <td>NaN</td>\n    </tr>\n    <tr>\n      <th>679</th>\n      <td>drug</td>\n      <td>is it safe for a 72 year old to stop taking pr...</td>\n      <td>NaN</td>\n    </tr>\n    <tr>\n      <th>104</th>\n      <td>drug</td>\n      <td>is herceptin chemo.a drug?</td>\n      <td>NaN</td>\n    </tr>\n    <tr>\n      <th>342</th>\n      <td>drug</td>\n      <td>when teeth have been treated how lon after do ...</td>\n      <td>NaN</td>\n    </tr>\n    <tr>\n      <th>444</th>\n      <td>drug</td>\n      <td>what upis this medication for simvastatin</td>\n      <td>NaN</td>\n    </tr>\n    <tr>\n      <th>196</th>\n      <td>drug</td>\n      <td>how much ethanol alcohol is in 2 puffs of \"pro...</td>\n      <td>NaN</td>\n    </tr>\n    <tr>\n      <th>527</th>\n      <td>drug</td>\n      <td>when is it ok to discontinue use of premarin c...</td>\n      <td>NaN</td>\n    </tr>\n    <tr>\n      <th>650</th>\n      <td>drug</td>\n      <td>when to take loratadine</td>\n      <td>NaN</td>\n    </tr>\n    <tr>\n      <th>476</th>\n      <td>drug</td>\n      <td>how long itching lasts after stopping doxycycline</td>\n      <td>NaN</td>\n    </tr>\n  </tbody>\n</table>\n</div>"
     },
     "metadata": {},
     "execution_count": 6
    }
   ],
   "source": [
    "DataFinal_frame.sample(10)"
   ]
  },
  {
   "cell_type": "code",
   "execution_count": 12,
   "metadata": {},
   "outputs": [
    {
     "output_type": "execute_result",
     "data": {
      "text/plain": [
       "790"
      ]
     },
     "metadata": {},
     "execution_count": 12
    }
   ],
   "source": [
    "DataFinal_frame['Question'][3]\n",
    "len((DataFinal_frame))"
   ]
  },
  {
   "cell_type": "code",
   "execution_count": 14,
   "metadata": {},
   "outputs": [],
   "source": [
    "drug = {}\n",
    "others = {}\n",
    "psy = {}\n",
    "for i in range(len(DataFinal_frame)):\n",
    "    type = DataFinal_frame['Type'][i]\n",
    "    question = DataFinal_frame['Question'][i]\n",
    "    reponse = DataFinal_frame['Reponse'][i]\n",
    "    if type == 'drug':\n",
    "        drug[question] = reponse\n",
    "    elif type == 'others':\n",
    "        others[question] = reponse\n",
    "    else:\n",
    "        psy[question] = reponse"
   ]
  },
  {
   "cell_type": "code",
   "execution_count": 15,
   "metadata": {},
   "outputs": [
    {
     "output_type": "stream",
     "name": "stdout",
     "text": [
      "647 4 81\n"
     ]
    }
   ],
   "source": [
    "print(len(drug),len(others),len(psy))"
   ]
  },
  {
   "cell_type": "code",
   "execution_count": null,
   "metadata": {},
   "outputs": [],
   "source": []
  }
 ]
}