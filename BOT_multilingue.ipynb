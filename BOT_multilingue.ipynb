{
 "cells": [
  {
   "cell_type": "code",
   "execution_count": 1,
   "metadata": {},
   "outputs": [],
   "source": [
    "#import json\n",
    "import pandas as pd"
   ]
  },
  {
   "cell_type": "code",
   "execution_count": 5,
   "metadata": {},
   "outputs": [],
   "source": [
    "def get_date(path):\n",
    "    psycho_list = pd.read_csv(path,sep=';',names=['Question','Reponse'])\n",
    "    psycho_frame = pd.DataFrame(psycho_list,columns=['Question','Reponse'])\n",
    "    return psycho_frame"
   ]
  },
  {
   "cell_type": "code",
   "execution_count": 20,
   "metadata": {},
   "outputs": [],
   "source": [
    "psycho_frame = get_data('data/Q_R_zh.csv')\n",
    "#psycho_frame"
   ]
  },
  {
   "cell_type": "code",
   "execution_count": 11,
   "metadata": {},
   "outputs": [],
   "source": [
    "from sklearn.feature_extraction.text import CountVectorizer\n",
    "from sklearn.neighbors import DistanceMetric"
   ]
  },
  {
   "cell_type": "code",
   "execution_count": 12,
   "metadata": {},
   "outputs": [],
   "source": [
    "# obtenir une matrix de distance sur la question et la réponse\n",
    "def get_distance(query,liste):\n",
    "    matrix = [ [1]*len(liste) for i in range(len(liste))]\n",
    "    #print(matrix)\n",
    "    dist = DistanceMetric.get_metric('jaccard')\n",
    "    for i in range(len(liste)):\n",
    "        V = CountVectorizer()\n",
    "        X = V.fit_transform([query, liste[i]]).toarray()\n",
    "        distance = dist.pairwise(X)\n",
    "        distance = distance.tolist()\n",
    "        #distance = distance[1][0]\n",
    "        matrix[i] = distance\n",
    "    return matrix\n"
   ]
  },
  {
   "cell_type": "code",
   "execution_count": 21,
   "metadata": {},
   "outputs": [],
   "source": [
    "# BOT : calculer la similarité entre la requête et la question\n",
    "def BOT_v1_multilingue():\n",
    "    print(\"BOT : Hello, I am a baby of mom Shanshan and dad Cancan, I can speak French, Chinese and English, what language do you speak?\")\n",
    "    langue = input()\n",
    "    if langue == 'fr':\n",
    "        path = 'data/Q_R_fr.csv'\n",
    "        print(\"BOT : D'accord, qu'est-ce que je peux vous aider ?\")\n",
    "    if langue == 'zh':\n",
    "        path = 'data/Q_R_zh.csv'\n",
    "        print(\"BOT: 好的，你想问什么问题？\")\n",
    "    if langue == 'en':\n",
    "        path = 'data/Q_R_en.csv'\n",
    "        print(\"BOT: Okay, what can I help you with?\")\n",
    "    while True:\n",
    "        query = input()\n",
    "        if \"bye\" in query:\n",
    "            print(\"BOT : Bye!\")\n",
    "            break\n",
    "        else :\n",
    "            #query = '怎么重拾生活的兴趣？'\n",
    "            #print('You: ',query)\n",
    "            psycho_frame = get_data(path)\n",
    "            question_list = psycho_frame['Question'].to_list()\n",
    "            reponse_list = psycho_frame['Reponse'].to_list()\n",
    "            distance_query_question = get_distance(query,question_list)\n",
    "            question_simi_index = distance_query_question.index(min(distance_query_question))\n",
    "            reponse = reponse_list[question_simi_index]\n",
    "            print(\"BOT : \",reponse)"
   ]
  },
  {
   "cell_type": "code",
   "execution_count": 24,
   "metadata": {},
   "outputs": [
    {
     "name": "stdout",
     "output_type": "stream",
     "text": [
      "BOT : Hello, I am a baby of mom Shanshan and dad Cancan, I can speak French, Chinese and English, what language do you speak?\n",
      "fr\n",
      "BOT : D'accord, qu'est-ce que je peux vous aider ?\n",
      "Comment faire si j'ai angoisse ?\n",
      "BOT :  L'anxiété si elle devient chronique peut-être une véritable torture au quotidien. Pour vous détendre, vous pouvez essayer la relaxation (respiration, massage, méditation), écouter de la musique, pratiquer une activité sportive, vous balader en pleine nature, changer le décor de votre intérieur. Vous pouvez aussi faire des séances de psychotherapie qui vous permettront de comprendre l'origine de vos angoisses, comment faire jaillir vos émotions et trouver des solutions pour retrouver un mieux-être, c'est a-dire de retrouver le goût à la vie, le plaisir de faire des activités, de prendre du temps pour soi.\n",
      "bye\n",
      "BOT : Bye!\n"
     ]
    }
   ],
   "source": [
    "#test français\n",
    "BOT_v1_multilingue()"
   ]
  },
  {
   "cell_type": "code",
   "execution_count": 22,
   "metadata": {},
   "outputs": [
    {
     "name": "stdout",
     "output_type": "stream",
     "text": [
      "BOT : Hello, I am a baby of mom Shanshan and dad Cancan, I can speak French, Chinese and English, what language do you speak?\n",
      "zh\n",
      "BOT: 好的，你想问什么问题？\n",
      "怎么重拾生活的兴趣？\n",
      "BOT :  社会心理学研究的是作为行动者、行动主体的个人，而社会学则更多地关注大型群体或机构的结构和运作。\n",
      "bye\n",
      "BOT : Bye!\n"
     ]
    }
   ],
   "source": [
    "#test chinois\n",
    "BOT_v1_multilingue()"
   ]
  },
  {
   "cell_type": "code",
   "execution_count": 23,
   "metadata": {},
   "outputs": [
    {
     "name": "stdout",
     "output_type": "stream",
     "text": [
      "BOT : Hello, I am a baby of mom Shanshan and dad Cancan, I can speak French, Chinese and English, what language do you speak?\n",
      "en\n",
      "BOT: Okay, what can I help you with?\n",
      "How to regain an interest in life?\n",
      "BOT :  Don't be left alone to mope. As you have been advised, talk about your difficulties and sufferings to your parents, and to your main teacher, if possible before the end of the week to have, before the vacations, an idea of a search for a solution. What would you like to do later? Do you have an idea for a job or studies that attracts you? Is the scientific orientation right for you? Would help during the vacations be able to put you back on your feet and re-motivate you?\n",
      "bye\n",
      "BOT : Bye!\n"
     ]
    }
   ],
   "source": [
    "#test anglais\n",
    "BOT_v1_multilingue()"
   ]
  },
  {
   "cell_type": "code",
   "execution_count": 33,
   "metadata": {},
   "outputs": [],
   "source": [
    "# BOT : calculer la similarité entre query/question et query/reponse\n",
    "def BOT_v2_multilingue():\n",
    "    print(\"BOT : Hello, I am a baby of mom Shanshan and dad Cancan, I can speak French, Chinese and English, what language do you speak?\")\n",
    "    langue = input()\n",
    "    if langue == 'fr':\n",
    "        path = 'data/Q_R_fr.csv'\n",
    "        print(\"BOT : D'accord, qu'est-ce que je peux vous aider ?\")\n",
    "    if langue == 'zh':\n",
    "        path = 'data/Q_R_zh.csv'\n",
    "        print(\"BOT: 好的，你想问什么问题？\")\n",
    "    if langue == 'en':\n",
    "        path = 'data/Q_R_en.csv'\n",
    "        print(\"BOT: Okay, what can I help you with?\")\n",
    "    while True:\n",
    "        #query = 'psychologie'\n",
    "        query = input()\n",
    "        if \"bye\" in query:\n",
    "            print(\"BOT : Bye !\")\n",
    "            break\n",
    "        else :\n",
    "            psycho_frame = get_data(path)\n",
    "            question_list = psycho_frame['Question'].to_list()\n",
    "            reponse_list = psycho_frame['Reponse'].to_list()\n",
    "            distance_query_question = get_distance(query,question_list)\n",
    "            distance_query_reponse = get_distance(query,reponse_list)\n",
    "            #moyenne = mean(distance_query_question,distance_query_reponse)\n",
    "            distance_question_min = min(distance_query_question)\n",
    "            distance_reponse_min = min(distance_query_reponse)\n",
    "            #distance = min(distance_question_min,distance_reponse_min)\n",
    "            if distance_question_min < distance_reponse_min :\n",
    "                question_simi_index = distance_query_question.index(distance_question_min)\n",
    "                reponse = reponse_list[question_simi_index]\n",
    "                print(\"BOT : \",reponse)\n",
    "            else:\n",
    "                question_simi_index = distance_query_reponse.index(distance_reponse_min)\n",
    "                reponse = reponse_list[question_simi_index]\n",
    "                print(\"BOT : \",reponse)"
   ]
  },
  {
   "cell_type": "code",
   "execution_count": 34,
   "metadata": {},
   "outputs": [
    {
     "name": "stdout",
     "output_type": "stream",
     "text": [
      "BOT : Hello, I am a baby of mom Shanshan and dad Cancan, I can speak French, Chinese and English, what language do you speak?\n",
      "fr\n",
      "BOT : D'accord, qu'est-ce que je peux vous aider ?\n",
      "Comment faire si j'ai angoisse ?\n",
      "BOT :  L'anxiété si elle devient chronique peut-être une véritable torture au quotidien. Pour vous détendre, vous pouvez essayer la relaxation (respiration, massage, méditation), écouter de la musique, pratiquer une activité sportive, vous balader en pleine nature, changer le décor de votre intérieur. Vous pouvez aussi faire des séances de psychotherapie qui vous permettront de comprendre l'origine de vos angoisses, comment faire jaillir vos émotions et trouver des solutions pour retrouver un mieux-être, c'est a-dire de retrouver le goût à la vie, le plaisir de faire des activités, de prendre du temps pour soi.\n",
      "bye\n",
      "BOT : Bye !\n"
     ]
    }
   ],
   "source": [
    "# test v1 français\n",
    "BOT_v2_multilingue()"
   ]
  },
  {
   "cell_type": "code",
   "execution_count": 35,
   "metadata": {},
   "outputs": [
    {
     "name": "stdout",
     "output_type": "stream",
     "text": [
      "BOT : Hello, I am a baby of mom Shanshan and dad Cancan, I can speak French, Chinese and English, what language do you speak?\n",
      "zh\n",
      "BOT: 好的，你想问什么问题？\n",
      "如何重拾对生活的兴趣？\n",
      "BOT :  不要只是坐着闷闷不乐。正如有人建议你做的那样，如果可能的话，在本周结束前向你的父母和你的主课老师诉说你的困难和痛苦，以便在假期前有一个解决的办法。你以后想做什么？你有吸引你的工作或学习的想法吗？科学的定位是否适合你？节日期间的帮助是否能够让你重新振作起来，重新激励你？\n",
      "bye\n",
      "BOT : Bye !\n"
     ]
    }
   ],
   "source": [
    "#test v2 chinois\n",
    "BOT_v2_multilingue()"
   ]
  },
  {
   "cell_type": "code",
   "execution_count": 36,
   "metadata": {},
   "outputs": [
    {
     "name": "stdout",
     "output_type": "stream",
     "text": [
      "BOT : Hello, I am a baby of mom Shanshan and dad Cancan, I can speak French, Chinese and English, what language do you speak?\n",
      "en\n",
      "BOT: Okay, what can I help you with?\n",
      "How to regain an interest in life?\n",
      "BOT :  Don't be left alone to mope. As you have been advised, talk about your difficulties and sufferings to your parents, and to your main teacher, if possible before the end of the week to have, before the vacations, an idea of a search for a solution. What would you like to do later? Do you have an idea for a job or studies that attracts you? Is the scientific orientation right for you? Would help during the vacations be able to put you back on your feet and re-motivate you?\n",
      "bye\n",
      "BOT : Bye !\n"
     ]
    }
   ],
   "source": [
    "#test v2 anglais\n",
    "BOT_v2_multilingue()"
   ]
  },
  {
   "cell_type": "code",
   "execution_count": null,
   "metadata": {},
   "outputs": [],
   "source": []
  }
 ],
 "metadata": {
  "kernelspec": {
   "display_name": "Python 3",
   "language": "python",
   "name": "python3"
  },
  "language_info": {
   "codemirror_mode": {
    "name": "ipython",
    "version": 3
   },
   "file_extension": ".py",
   "mimetype": "text/x-python",
   "name": "python",
   "nbconvert_exporter": "python",
   "pygments_lexer": "ipython3",
   "version": "3.7.3"
  }
 },
 "nbformat": 4,
 "nbformat_minor": 2
}
