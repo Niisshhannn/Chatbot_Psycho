{
 "metadata": {
  "language_info": {
   "codemirror_mode": {
    "name": "ipython",
    "version": 3
   },
   "file_extension": ".py",
   "mimetype": "text/x-python",
   "name": "python",
   "nbconvert_exporter": "python",
   "pygments_lexer": "ipython3",
   "version": "3.6.10-final"
  },
  "orig_nbformat": 2,
  "kernelspec": {
   "name": "python3",
   "display_name": "Python 3",
   "language": "python"
  }
 },
 "nbformat": 4,
 "nbformat_minor": 2,
 "cells": [
  {
   "cell_type": "code",
   "execution_count": 1,
   "metadata": {},
   "outputs": [],
   "source": [
    "import pandas as pd"
   ]
  },
  {
   "cell_type": "code",
   "execution_count": 2,
   "metadata": {},
   "outputs": [],
   "source": [
    "data_excel = pd.read_excel('data/MedInfo2019-QA-Medications.xlsx',header=0)"
   ]
  },
  {
   "cell_type": "code",
   "execution_count": 24,
   "metadata": {},
   "outputs": [
    {
     "output_type": "execute_result",
     "data": {
      "text/plain": [
       "                                              Question           Focus (Drug)  \\\n",
       "166  what to use with someone in place of morphine ...                 iodine   \n",
       "74                                  wean off tegretol?               Tegretol   \n",
       "311      how long should you use anti inflammatory gel  anti inflammatory gel   \n",
       "172                          what is dosage/quetiapine             Quetiapine   \n",
       "475          what is contraindication of carbamazepine          carbamazepine   \n",
       "\n",
       "         Question Type                                             Answer  \\\n",
       "166       Alternatives  Unfortunately, the amount of iodine in a food ...   \n",
       "74   Stopping/tapering  As with all antiepileptic drugs, Tegretol shou...   \n",
       "311     Usage/duration  Use topical diclofenac (Pennsaid, Voltaren) ex...   \n",
       "172               Dose  2.1 Schizophrenia \\n\\nAdults\\n\\nDose Selection...   \n",
       "475   Contraindication  Carbamazepine should not be used in patients w...   \n",
       "\n",
       "                                         Section Title  \\\n",
       "166  How will I know which foods have the most iodine?   \n",
       "74                                            WARNINGS   \n",
       "311                  How should this medicine be used?   \n",
       "172                            DOSAGE & ADMINISTRATION   \n",
       "475                                  Contraindications   \n",
       "\n",
       "                                                   URL  \n",
       "166  https://www.cc.nih.gov/ccc/patient_education/p...  \n",
       "74   https://dailymed.nlm.nih.gov/dailymed/drugInfo...  \n",
       "311  https://medlineplus.gov/druginfo/meds/a611002....  \n",
       "172  https://dailymed.nlm.nih.gov/dailymed/drugInfo...  \n",
       "475  https://dailymed.nlm.nih.gov/dailymed/drugInfo...  "
      ],
      "text/html": "<div>\n<style scoped>\n    .dataframe tbody tr th:only-of-type {\n        vertical-align: middle;\n    }\n\n    .dataframe tbody tr th {\n        vertical-align: top;\n    }\n\n    .dataframe thead th {\n        text-align: right;\n    }\n</style>\n<table border=\"1\" class=\"dataframe\">\n  <thead>\n    <tr style=\"text-align: right;\">\n      <th></th>\n      <th>Question</th>\n      <th>Focus (Drug)</th>\n      <th>Question Type</th>\n      <th>Answer</th>\n      <th>Section Title</th>\n      <th>URL</th>\n    </tr>\n  </thead>\n  <tbody>\n    <tr>\n      <th>166</th>\n      <td>what to use with someone in place of morphine ...</td>\n      <td>iodine</td>\n      <td>Alternatives</td>\n      <td>Unfortunately, the amount of iodine in a food ...</td>\n      <td>How will I know which foods have the most iodine?</td>\n      <td>https://www.cc.nih.gov/ccc/patient_education/p...</td>\n    </tr>\n    <tr>\n      <th>74</th>\n      <td>wean off tegretol?</td>\n      <td>Tegretol</td>\n      <td>Stopping/tapering</td>\n      <td>As with all antiepileptic drugs, Tegretol shou...</td>\n      <td>WARNINGS</td>\n      <td>https://dailymed.nlm.nih.gov/dailymed/drugInfo...</td>\n    </tr>\n    <tr>\n      <th>311</th>\n      <td>how long should you use anti inflammatory gel</td>\n      <td>anti inflammatory gel</td>\n      <td>Usage/duration</td>\n      <td>Use topical diclofenac (Pennsaid, Voltaren) ex...</td>\n      <td>How should this medicine be used?</td>\n      <td>https://medlineplus.gov/druginfo/meds/a611002....</td>\n    </tr>\n    <tr>\n      <th>172</th>\n      <td>what is dosage/quetiapine</td>\n      <td>Quetiapine</td>\n      <td>Dose</td>\n      <td>2.1 Schizophrenia \\n\\nAdults\\n\\nDose Selection...</td>\n      <td>DOSAGE &amp; ADMINISTRATION</td>\n      <td>https://dailymed.nlm.nih.gov/dailymed/drugInfo...</td>\n    </tr>\n    <tr>\n      <th>475</th>\n      <td>what is contraindication of carbamazepine</td>\n      <td>carbamazepine</td>\n      <td>Contraindication</td>\n      <td>Carbamazepine should not be used in patients w...</td>\n      <td>Contraindications</td>\n      <td>https://dailymed.nlm.nih.gov/dailymed/drugInfo...</td>\n    </tr>\n  </tbody>\n</table>\n</div>"
     },
     "metadata": {},
     "execution_count": 24
    }
   ],
   "source": [
    "data_excel.sample(5)"
   ]
  },
  {
   "cell_type": "code",
   "execution_count": 6,
   "metadata": {},
   "outputs": [],
   "source": [
    "type_label = set(data_excel['Question Type'].to_list())"
   ]
  },
  {
   "cell_type": "code",
   "execution_count": 8,
   "metadata": {},
   "outputs": [
    {
     "output_type": "stream",
     "name": "stdout",
     "text": [
      "{'Ingredient', 'Usage/time', 'Forget a dose', 'Alternatives', 'Time/side effects', 'Stopping/side effects', 'Action/time', 'Time/effectiveness', 'Availability', 'Dose', 'Manufacturer', 'Information', 'Time/duration', 'other_drug_question', 'Action/effectiveness', 'Appearance', 'Long term consequences', 'not_drug_question', 'Action', 'Interaction', 'Comparison', 'Side effects', 'Indication', 'Usage', 'Dose/time', 'Brand names', 'Dose/Potency', 'unanswerable', 'Contraindication', 'Usage/duration', 'Stopping/tapering', 'Combination', 'Side effects/time', 'Usage/special populations', 'Storage and disposal', 'Pronounce name', 'Overdose'}\n"
     ]
    }
   ],
   "source": [
    "print(type_label)"
   ]
  },
  {
   "cell_type": "code",
   "execution_count": 9,
   "metadata": {},
   "outputs": [],
   "source": [
    "data = data_excel[['Question','Question Type','Answer']]"
   ]
  },
  {
   "cell_type": "code",
   "execution_count": 13,
   "metadata": {},
   "outputs": [],
   "source": [
    "data.rename(columns={'Question':'Question','Question Type':'Type','Answer':'Answer'},inplace=True)"
   ]
  },
  {
   "cell_type": "code",
   "execution_count": 14,
   "metadata": {},
   "outputs": [
    {
     "output_type": "execute_result",
     "data": {
      "text/plain": [
       "                                              Question               Type  \\\n",
       "52                       what is a high level of troop  not_drug_question   \n",
       "253          what effect if take high cholesteron pill             Action   \n",
       "613  trospium chloride in patients with neurogenic ...              Usage   \n",
       "533             how other inject cortisone to the knee        Information   \n",
       "497        what are the dosage strengths of sildenafil               Dose   \n",
       "\n",
       "                                                Answer  \n",
       "52   TrOOP costs are those prescription costs that ...  \n",
       "253  If diet and exercise don't reduce your cholest...  \n",
       "613  The recommended dose is 20 mg twice daily. Tro...  \n",
       "533  A steroid injection is a shot of medicine used...  \n",
       "497  Sildenafil Tablets\\n\\nWhite, film-coated, roun...  "
      ],
      "text/html": "<div>\n<style scoped>\n    .dataframe tbody tr th:only-of-type {\n        vertical-align: middle;\n    }\n\n    .dataframe tbody tr th {\n        vertical-align: top;\n    }\n\n    .dataframe thead th {\n        text-align: right;\n    }\n</style>\n<table border=\"1\" class=\"dataframe\">\n  <thead>\n    <tr style=\"text-align: right;\">\n      <th></th>\n      <th>Question</th>\n      <th>Type</th>\n      <th>Answer</th>\n    </tr>\n  </thead>\n  <tbody>\n    <tr>\n      <th>52</th>\n      <td>what is a high level of troop</td>\n      <td>not_drug_question</td>\n      <td>TrOOP costs are those prescription costs that ...</td>\n    </tr>\n    <tr>\n      <th>253</th>\n      <td>what effect if take high cholesteron pill</td>\n      <td>Action</td>\n      <td>If diet and exercise don't reduce your cholest...</td>\n    </tr>\n    <tr>\n      <th>613</th>\n      <td>trospium chloride in patients with neurogenic ...</td>\n      <td>Usage</td>\n      <td>The recommended dose is 20 mg twice daily. Tro...</td>\n    </tr>\n    <tr>\n      <th>533</th>\n      <td>how other inject cortisone to the knee</td>\n      <td>Information</td>\n      <td>A steroid injection is a shot of medicine used...</td>\n    </tr>\n    <tr>\n      <th>497</th>\n      <td>what are the dosage strengths of sildenafil</td>\n      <td>Dose</td>\n      <td>Sildenafil Tablets\\n\\nWhite, film-coated, roun...</td>\n    </tr>\n  </tbody>\n</table>\n</div>"
     },
     "metadata": {},
     "execution_count": 14
    }
   ],
   "source": [
    "data.sample(5)"
   ]
  },
  {
   "cell_type": "code",
   "execution_count": 21,
   "metadata": {},
   "outputs": [],
   "source": [
    "data_psy = pd.read_csv('data/Q_R_en.csv',sep=';',names=['Question','Answer'])"
   ]
  },
  {
   "cell_type": "code",
   "execution_count": 23,
   "metadata": {},
   "outputs": [
    {
     "output_type": "execute_result",
     "data": {
      "text/plain": [
       "                                             Question  \\\n",
       "7                            My dream is premonitory?   \n",
       "32                            How do I stop drinking?   \n",
       "23     Why don't I have any memories of my childhood?   \n",
       "6                  How to regain an interest in life?   \n",
       "22  How can I have a strong character like my frie...   \n",
       "\n",
       "                                               Answer  \n",
       "7   Your dream speaks of your desire. Now that it ...  \n",
       "32  To stop drinking, you must first of all want t...  \n",
       "23  it can happen that one has the impression to h...  \n",
       "6   Find a sport activity for example that suits y...  \n",
       "22  Are you a teenager? Sometimes it's difficult t...  "
      ],
      "text/html": "<div>\n<style scoped>\n    .dataframe tbody tr th:only-of-type {\n        vertical-align: middle;\n    }\n\n    .dataframe tbody tr th {\n        vertical-align: top;\n    }\n\n    .dataframe thead th {\n        text-align: right;\n    }\n</style>\n<table border=\"1\" class=\"dataframe\">\n  <thead>\n    <tr style=\"text-align: right;\">\n      <th></th>\n      <th>Question</th>\n      <th>Answer</th>\n    </tr>\n  </thead>\n  <tbody>\n    <tr>\n      <th>7</th>\n      <td>My dream is premonitory?</td>\n      <td>Your dream speaks of your desire. Now that it ...</td>\n    </tr>\n    <tr>\n      <th>32</th>\n      <td>How do I stop drinking?</td>\n      <td>To stop drinking, you must first of all want t...</td>\n    </tr>\n    <tr>\n      <th>23</th>\n      <td>Why don't I have any memories of my childhood?</td>\n      <td>it can happen that one has the impression to h...</td>\n    </tr>\n    <tr>\n      <th>6</th>\n      <td>How to regain an interest in life?</td>\n      <td>Find a sport activity for example that suits y...</td>\n    </tr>\n    <tr>\n      <th>22</th>\n      <td>How can I have a strong character like my frie...</td>\n      <td>Are you a teenager? Sometimes it's difficult t...</td>\n    </tr>\n  </tbody>\n</table>\n</div>"
     },
     "metadata": {},
     "execution_count": 23
    }
   ],
   "source": [
    "data_psy.sample(5)"
   ]
  },
  {
   "cell_type": "code",
   "execution_count": 27,
   "metadata": {},
   "outputs": [],
   "source": [
    "psy_lable_list = ['psychology']*len(data_psy)"
   ]
  },
  {
   "cell_type": "code",
   "execution_count": 28,
   "metadata": {},
   "outputs": [],
   "source": [
    "psy_lable_frame = pd.DataFrame(psy_lable_list,columns=['Type'])"
   ]
  },
  {
   "cell_type": "code",
   "execution_count": 29,
   "metadata": {},
   "outputs": [],
   "source": [
    "data_psy_update = pd.concat([data_psy,psy_lable_frame],axis=1,ignore_index=False)"
   ]
  },
  {
   "cell_type": "code",
   "execution_count": 31,
   "metadata": {},
   "outputs": [],
   "source": [
    "data_psy_update = data_psy_update[['Question','Type','Answer']]"
   ]
  },
  {
   "cell_type": "code",
   "execution_count": 33,
   "metadata": {},
   "outputs": [
    {
     "output_type": "execute_result",
     "data": {
      "text/plain": [
       "                                             Question        Type  \\\n",
       "3   What could I do when my girlfriend left me aft...  psychology   \n",
       "38          How do you help someone with agoraphobia?  psychology   \n",
       "6                  How to regain an interest in life?  psychology   \n",
       "39          How do you help someone with agoraphobia?  psychology   \n",
       "25     Why don't I have any memories of my childhood?  psychology   \n",
       "\n",
       "                                               Answer  \n",
       "3   Ten years of living together can only make a d...  \n",
       "38  First of all, make sure it is agoraphobia. The...  \n",
       "6   Find a sport activity for example that suits y...  \n",
       "39  Agoraphobia is very disabling because it often...  \n",
       "25  No memories? Or no visual memories? Sometimes ...  "
      ],
      "text/html": "<div>\n<style scoped>\n    .dataframe tbody tr th:only-of-type {\n        vertical-align: middle;\n    }\n\n    .dataframe tbody tr th {\n        vertical-align: top;\n    }\n\n    .dataframe thead th {\n        text-align: right;\n    }\n</style>\n<table border=\"1\" class=\"dataframe\">\n  <thead>\n    <tr style=\"text-align: right;\">\n      <th></th>\n      <th>Question</th>\n      <th>Type</th>\n      <th>Answer</th>\n    </tr>\n  </thead>\n  <tbody>\n    <tr>\n      <th>3</th>\n      <td>What could I do when my girlfriend left me aft...</td>\n      <td>psychology</td>\n      <td>Ten years of living together can only make a d...</td>\n    </tr>\n    <tr>\n      <th>38</th>\n      <td>How do you help someone with agoraphobia?</td>\n      <td>psychology</td>\n      <td>First of all, make sure it is agoraphobia. The...</td>\n    </tr>\n    <tr>\n      <th>6</th>\n      <td>How to regain an interest in life?</td>\n      <td>psychology</td>\n      <td>Find a sport activity for example that suits y...</td>\n    </tr>\n    <tr>\n      <th>39</th>\n      <td>How do you help someone with agoraphobia?</td>\n      <td>psychology</td>\n      <td>Agoraphobia is very disabling because it often...</td>\n    </tr>\n    <tr>\n      <th>25</th>\n      <td>Why don't I have any memories of my childhood?</td>\n      <td>psychology</td>\n      <td>No memories? Or no visual memories? Sometimes ...</td>\n    </tr>\n  </tbody>\n</table>\n</div>"
     },
     "metadata": {},
     "execution_count": 33
    }
   ],
   "source": [
    "data_psy_update.sample(5)"
   ]
  },
  {
   "cell_type": "code",
   "execution_count": 34,
   "metadata": {},
   "outputs": [],
   "source": [
    "data_total = pd.concat([data,data_psy_update],axis=0,ignore_index=False)"
   ]
  },
  {
   "cell_type": "code",
   "execution_count": 40,
   "metadata": {},
   "outputs": [
    {
     "output_type": "execute_result",
     "data": {
      "text/plain": [
       "                                         Question          Type  \\\n",
       "388                       senna tablets what dose          Dose   \n",
       "520  how does cocaine i effect the nervous system  Side effects   \n",
       "391                        how is marijuana taken         Usage   \n",
       "352    does enalaprilat is used for treat stroke?    Indication   \n",
       "262        what is the normal dose of clindamycin          Dose   \n",
       "\n",
       "                                                Answer  \n",
       "388  HOW SUPPLIED … DOSAGE & INDICATIONS ... MAXIMU...  \n",
       "520  Cocaine is an illegal stimulant drug that affe...  \n",
       "391  Marijuana is a green, brown, or gray mix of dr...  \n",
       "352  Enalaprilat injection, USP is indicated for th...  \n",
       "262  Adults: Serious infections - 150 to 300 mg eve...  "
      ],
      "text/html": "<div>\n<style scoped>\n    .dataframe tbody tr th:only-of-type {\n        vertical-align: middle;\n    }\n\n    .dataframe tbody tr th {\n        vertical-align: top;\n    }\n\n    .dataframe thead th {\n        text-align: right;\n    }\n</style>\n<table border=\"1\" class=\"dataframe\">\n  <thead>\n    <tr style=\"text-align: right;\">\n      <th></th>\n      <th>Question</th>\n      <th>Type</th>\n      <th>Answer</th>\n    </tr>\n  </thead>\n  <tbody>\n    <tr>\n      <th>388</th>\n      <td>senna tablets what dose</td>\n      <td>Dose</td>\n      <td>HOW SUPPLIED … DOSAGE &amp; INDICATIONS ... MAXIMU...</td>\n    </tr>\n    <tr>\n      <th>520</th>\n      <td>how does cocaine i effect the nervous system</td>\n      <td>Side effects</td>\n      <td>Cocaine is an illegal stimulant drug that affe...</td>\n    </tr>\n    <tr>\n      <th>391</th>\n      <td>how is marijuana taken</td>\n      <td>Usage</td>\n      <td>Marijuana is a green, brown, or gray mix of dr...</td>\n    </tr>\n    <tr>\n      <th>352</th>\n      <td>does enalaprilat is used for treat stroke?</td>\n      <td>Indication</td>\n      <td>Enalaprilat injection, USP is indicated for th...</td>\n    </tr>\n    <tr>\n      <th>262</th>\n      <td>what is the normal dose of clindamycin</td>\n      <td>Dose</td>\n      <td>Adults: Serious infections - 150 to 300 mg eve...</td>\n    </tr>\n  </tbody>\n</table>\n</div>"
     },
     "metadata": {},
     "execution_count": 40
    }
   ],
   "source": [
    "data_total.sample(5)"
   ]
  },
  {
   "cell_type": "code",
   "execution_count": 41,
   "metadata": {},
   "outputs": [],
   "source": [
    "data_total.to_csv('data/data_final.csv',header=True,index=False,sep=';')"
   ]
  },
  {
   "cell_type": "code",
   "execution_count": null,
   "metadata": {},
   "outputs": [],
   "source": []
  }
 ]
}