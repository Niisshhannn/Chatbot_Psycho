{
 "metadata": {
  "language_info": {
   "codemirror_mode": {
    "name": "ipython",
    "version": 3
   },
   "file_extension": ".py",
   "mimetype": "text/x-python",
   "name": "python",
   "nbconvert_exporter": "python",
   "pygments_lexer": "ipython3",
   "version": "3.6.10-final"
  },
  "orig_nbformat": 2,
  "kernelspec": {
   "name": "python3",
   "display_name": "Python 3",
   "language": "python"
  }
 },
 "nbformat": 4,
 "nbformat_minor": 2,
 "cells": [
  {
   "cell_type": "code",
   "execution_count": 1,
   "metadata": {},
   "outputs": [],
   "source": [
    "import efaqa_corpus_zh\n",
    "import pandas as pd\n",
    "#from googletrans import Translator"
   ]
  },
  {
   "cell_type": "code",
   "execution_count": 2,
   "metadata": {},
   "outputs": [],
   "source": [
    "# load database psychologique\n",
    "database = list(efaqa_corpus_zh.load())\n",
    "#print(database[10]['title'])"
   ]
  },
  {
   "cell_type": "code",
   "execution_count": 3,
   "metadata": {},
   "outputs": [],
   "source": [
    "query_list = []\n",
    "reponse_list = []\n",
    "for i in range(len(database)-1):\n",
    "    query_list.append(database[i]['title'])\n",
    "    reponse_list.append(database[i]['chats'][0]['value'])\n",
    "    #query_list.append(database[i]['title'])\n",
    "    #reponse_list.append(database[i]['chats'][1]['value'])\n"
   ]
  },
  {
   "cell_type": "code",
   "execution_count": 4,
   "metadata": {},
   "outputs": [],
   "source": [
    "dic_reponse_query = dict(zip(reponse_list,query_list))"
   ]
  },
  {
   "cell_type": "code",
   "execution_count": 15,
   "metadata": {},
   "outputs": [],
   "source": [
    "query_frame = pd.DataFrame(query_list,columns=['Question'])\n",
    "#query_frame.to_csv('question_ch.csv',header=True, index=False)\n",
    "reponse_frame = pd.DataFrame(reponse_list,columns=['Reponse'])\n",
    "#reponse_frame.to_csv('reponse_ch.csv',header=True, index=False)\n",
    "query_reponse_frame = pd.concat([query_frame,reponse_frame],axis=1,ignore_index=False)\n",
    "query_reponse_frame.to_csv('data/Q_R_ch.csv',sep=';',header=False, index=False)"
   ]
  },
  {
   "cell_type": "code",
   "execution_count": 6,
   "metadata": {},
   "outputs": [],
   "source": [
    "from sklearn.feature_extraction.text import CountVectorizer\n",
    "from sklearn.neighbors import DistanceMetric"
   ]
  },
  {
   "cell_type": "code",
   "execution_count": 12,
   "metadata": {},
   "outputs": [],
   "source": [
    "# obtenir une matrix de distance sur la question et la réponse\n",
    "def get_distance(query,liste):\n",
    "    matrix = [ [1]*len(liste) for i in range(len(liste))]\n",
    "    #print(matrix)\n",
    "    dist = DistanceMetric.get_metric('jaccard')\n",
    "    for i in range(len(liste)):\n",
    "        V = CountVectorizer()\n",
    "        X = V.fit_transform([query, liste[i]]).toarray()\n",
    "        distance = dist.pairwise(X)\n",
    "        distance = distance.tolist()\n",
    "        #distance = distance[1][0]\n",
    "        matrix[i] = distance\n",
    "    return matrix\n",
    "\n",
    "def get_data(path):\n",
    "    psycho_list = pd.read_csv(path,sep=';',names=['Question','Reponse'])\n",
    "    psycho_frame = pd.DataFrame(psycho_list,columns=['Question','Reponse'])\n",
    "    return psycho_frame\n"
   ]
  },
  {
   "cell_type": "code",
   "execution_count": 20,
   "metadata": {},
   "outputs": [],
   "source": [
    "# BOT : calculer la similarité entre la requête et la question\n",
    "def BOT_v1_multilingue():\n",
    "    print(\"BOT : Hello, I am a baby of mom Shanshan and dad Cancan, I can speak French, Chinese and English, what language do you speak? please input fr or zh or en\")\n",
    "    langue = input()\n",
    "    if langue == 'fr':\n",
    "        path = 'data/Q_R_fr.csv'\n",
    "        print(\"BOT : D'accord, qu'est-ce que je peux vous aider ?\")\n",
    "    if langue == 'zh':\n",
    "        path = 'data/Q_R_ch.csv'\n",
    "        print(\"BOT: 好的，请问有什么我可以帮您的吗\")\n",
    "    if langue == 'en':\n",
    "        path = 'data/Q_R_en.csv'\n",
    "        print(\"BOT: Okay, what can I help you with?\")\n",
    "    while True:\n",
    "        query = input()\n",
    "        if \"bye\" or '再见' or 'au revoir' in query:\n",
    "            print('You : ',query)\n",
    "            print(\"BOT : Bye!\")\n",
    "            break\n",
    "        else :\n",
    "            #query = '怎么重拾生活的兴趣？'\n",
    "            print('You: ',query)\n",
    "            psycho_frame = get_data(path)\n",
    "            question_list = psycho_frame['Question'].to_list()\n",
    "            reponse_list = psycho_frame['Reponse'].to_list()\n",
    "            distance_query_question = get_distance(query,question_list)\n",
    "            question_simi_index = distance_query_question.index(min(distance_query_question))\n",
    "            reponse = reponse_list[question_simi_index]\n",
    "            print(\"BOT : \",reponse)"
   ]
  },
  {
   "cell_type": "code",
   "execution_count": 21,
   "metadata": {},
   "outputs": [
    {
     "output_type": "stream",
     "name": "stdout",
     "text": [
      "BOT : Hello, I am a baby of mom Shanshan and dad Cancan, I can speak French, Chinese and English, what language do you speak? please input fr or zh or en\n",
      "BOT : D'accord, qu'est-ce que je peux vous aider ?\n",
      "You :  au revoir\n",
      "BOT : Bye!\n"
     ]
    }
   ],
   "source": [
    "BOT_v1_multilingue()"
   ]
  },
  {
   "cell_type": "code",
   "execution_count": 22,
   "metadata": {},
   "outputs": [
    {
     "output_type": "stream",
     "name": "stdout",
     "text": [
      "BOT : Hello, I am a baby of mom Shanshan and dad Cancan, I can speak French, Chinese and English, what language do you speak? please input fr or zh or en\n",
      "BOT: 好的，请问有什么我可以帮您的吗\n",
      "You :  再见\n",
      "BOT : Bye!\n"
     ]
    }
   ],
   "source": [
    "BOT_v1_multilingue()"
   ]
  },
  {
   "cell_type": "code",
   "execution_count": 23,
   "metadata": {},
   "outputs": [
    {
     "output_type": "stream",
     "name": "stdout",
     "text": [
      "BOT : Hello, I am a baby of mom Shanshan and dad Cancan, I can speak French, Chinese and English, what language do you speak? please input fr or zh or en\n",
      "BOT: Okay, what can I help you with?\n",
      "You :  bye\n",
      "BOT : Bye!\n"
     ]
    }
   ],
   "source": [
    "BOT_v1_multilingue()"
   ]
  },
  {
   "cell_type": "code",
   "execution_count": 33,
   "metadata": {},
   "outputs": [],
   "source": [
    "# BOT : calculer la similarité entre query/question et query/reponse\n",
    "def BOT_v2_multilingue():\n",
    "    print(\"BOT : Hello, I am a baby of mom Shanshan and dad Cancan, I can speak French, Chinese and English, what language do you speak? Please input fr or zh or en ^_^ \")\n",
    "    langue = input()\n",
    "    if langue == 'fr':\n",
    "        path = 'data/Q_R_fr.csv'\n",
    "        print(\"BOT : D'accord, qu'est-ce que je peux vous aider ?\")\n",
    "    if langue == 'zh':\n",
    "        path = 'data/Q_R_ch.csv'\n",
    "        print(\"BOT: 好的，请问有什么可以帮助您的呢？\")\n",
    "    if langue == 'en':\n",
    "        path = 'data/Q_R_en.csv'\n",
    "        print(\"BOT: Okay, what can I help you with?\")\n",
    "    while True:\n",
    "        #query = 'psychologie'\n",
    "        query = input()\n",
    "        if \"bye\" in query:\n",
    "            print('YOU: ',query)\n",
    "            print(\"BOT : Bye !\")\n",
    "            break\n",
    "        else :\n",
    "            print('You: ',query)\n",
    "            psycho_frame = get_data(path)\n",
    "            question_list = psycho_frame['Question'].to_list()\n",
    "            reponse_list = psycho_frame['Reponse'].to_list()\n",
    "            distance_query_question = get_distance(query,question_list)\n",
    "            distance_query_reponse = get_distance(query,reponse_list)\n",
    "            #moyenne = mean(distance_query_question,distance_query_reponse)\n",
    "            distance_question_min = min(distance_query_question)\n",
    "            distance_reponse_min = min(distance_query_reponse)\n",
    "            #distance = min(distance_question_min,distance_reponse_min)\n",
    "            if distance_question_min < distance_reponse_min :\n",
    "                question_simi_index = distance_query_question.index(distance_question_min)\n",
    "                reponse = reponse_list[question_simi_index]\n",
    "                print(\"BOT : \",reponse)\n",
    "            else:\n",
    "                question_simi_index = distance_query_reponse.index(distance_reponse_min)\n",
    "                reponse = reponse_list[question_simi_index]\n",
    "                print(\"BOT : \",reponse)"
   ]
  },
  {
   "cell_type": "code",
   "execution_count": 34,
   "metadata": {},
   "outputs": [
    {
     "output_type": "stream",
     "name": "stdout",
     "text": [
      "BOT : Hello, I am a baby of mom Shanshan and dad Cancan, I can speak French, Chinese and English, what language do you speak? Please input fr or zh or en ^_^ \n",
      "BOT: 好的，请问有什么可以帮助您的呢？\n",
      "You:  您好我经常头疼想哭\n",
      "BOT :  这样的议论是针对谁呢？\n",
      "You:  关于离婚和财产切割问题\n",
      "BOT :  这样的议论是针对谁呢？\n",
      "YOU:  bye\n",
      "BOT : Bye !\n"
     ]
    }
   ],
   "source": [
    "# test v1 français\n",
    "BOT_v2_multilingue()"
   ]
  },
  {
   "cell_type": "code",
   "execution_count": null,
   "metadata": {},
   "outputs": [],
   "source": []
  }
 ]
}